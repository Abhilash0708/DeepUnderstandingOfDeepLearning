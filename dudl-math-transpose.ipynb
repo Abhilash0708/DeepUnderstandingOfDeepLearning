{
 "cells": [
  {
   "cell_type": "code",
   "execution_count": 1,
   "id": "88b5d41d",
   "metadata": {
    "_cell_guid": "b1076dfc-b9ad-4769-8c92-a6c4dae69d19",
    "_uuid": "8f2839f25d086af736a60e9eeb907d3b93b6e0e5",
    "execution": {
     "iopub.execute_input": "2025-09-11T08:40:30.023348Z",
     "iopub.status.busy": "2025-09-11T08:40:30.023023Z",
     "iopub.status.idle": "2025-09-11T08:40:32.086035Z",
     "shell.execute_reply": "2025-09-11T08:40:32.084901Z"
    },
    "papermill": {
     "duration": 2.071889,
     "end_time": "2025-09-11T08:40:32.088087",
     "exception": false,
     "start_time": "2025-09-11T08:40:30.016198",
     "status": "completed"
    },
    "tags": []
   },
   "outputs": [],
   "source": [
    "# This Python 3 environment comes with many helpful analytics libraries installed\n",
    "# It is defined by the kaggle/python Docker image: https://github.com/kaggle/docker-python\n",
    "# For example, here's several helpful packages to load\n",
    "\n",
    "import numpy as np # linear algebra\n",
    "import pandas as pd # data processing, CSV file I/O (e.g. pd.read_csv)\n",
    "\n",
    "# Input data files are available in the read-only \"../input/\" directory\n",
    "# For example, running this (by clicking run or pressing Shift+Enter) will list all files under the input directory\n",
    "\n",
    "import os\n",
    "for dirname, _, filenames in os.walk('/kaggle/input'):\n",
    "    for filename in filenames:\n",
    "        print(os.path.join(dirname, filename))\n",
    "\n",
    "# You can write up to 20GB to the current directory (/kaggle/working/) that gets preserved as output when you create a version using \"Save & Run All\" \n",
    "# You can also write temporary files to /kaggle/temp/, but they won't be saved outside of the current session"
   ]
  },
  {
   "cell_type": "markdown",
   "id": "069a45f0",
   "metadata": {
    "papermill": {
     "duration": 0.003964,
     "end_time": "2025-09-11T08:40:32.096797",
     "exception": false,
     "start_time": "2025-09-11T08:40:32.092833",
     "status": "completed"
    },
    "tags": []
   },
   "source": [
    "# Mathematics\n",
    "## Linear Algebra\n",
    "## 1. Transpose\n",
    "\n",
    "The transpose of a matrix $A$ is denoted as $A^T$.\n",
    "\n",
    "If $A = \\begin{pmatrix} a & b \\\\ c & d \\end{pmatrix}$, then its transpose is $A^T = \\begin{pmatrix} a & c \\\\ b & d \\end{pmatrix}$."
   ]
  },
  {
   "cell_type": "markdown",
   "id": "d3991074",
   "metadata": {
    "papermill": {
     "duration": 0.003894,
     "end_time": "2025-09-11T08:40:32.105189",
     "exception": false,
     "start_time": "2025-09-11T08:40:32.101295",
     "status": "completed"
    },
    "tags": []
   },
   "source": [
    "## Using Numpy"
   ]
  },
  {
   "cell_type": "code",
   "execution_count": 2,
   "id": "94576227",
   "metadata": {
    "execution": {
     "iopub.execute_input": "2025-09-11T08:40:32.114930Z",
     "iopub.status.busy": "2025-09-11T08:40:32.114455Z",
     "iopub.status.idle": "2025-09-11T08:40:37.702534Z",
     "shell.execute_reply": "2025-09-11T08:40:37.701365Z"
    },
    "papermill": {
     "duration": 5.595133,
     "end_time": "2025-09-11T08:40:37.704428",
     "exception": false,
     "start_time": "2025-09-11T08:40:32.109295",
     "status": "completed"
    },
    "tags": []
   },
   "outputs": [],
   "source": [
    "# Import Libraries\n",
    "import numpy as np\n",
    "import torch"
   ]
  },
  {
   "cell_type": "code",
   "execution_count": 3,
   "id": "38438a7b",
   "metadata": {
    "execution": {
     "iopub.execute_input": "2025-09-11T08:40:37.714528Z",
     "iopub.status.busy": "2025-09-11T08:40:37.714048Z",
     "iopub.status.idle": "2025-09-11T08:40:37.723423Z",
     "shell.execute_reply": "2025-09-11T08:40:37.721624Z"
    },
    "papermill": {
     "duration": 0.016867,
     "end_time": "2025-09-11T08:40:37.725708",
     "exception": false,
     "start_time": "2025-09-11T08:40:37.708841",
     "status": "completed"
    },
    "tags": []
   },
   "outputs": [
    {
     "name": "stdout",
     "output_type": "stream",
     "text": [
      "[[1 2 3 4]]\n",
      " \n",
      "[[1]\n",
      " [2]\n",
      " [3]\n",
      " [4]]\n",
      " \n",
      "[[1 2 3 4]]\n"
     ]
    }
   ],
   "source": [
    "# create a vector\n",
    "nv = np.array([ [1, 2, 3, 4] ]) # Row vector\n",
    "\n",
    "print(nv), print(' ')\n",
    "\n",
    "# transpose it\n",
    "print(nv.T), print(' ')\n",
    "\n",
    "# transpose the transposed!\n",
    "nvT = nv.T\n",
    "print(nvT.T)"
   ]
  },
  {
   "cell_type": "code",
   "execution_count": 4,
   "id": "bd019188",
   "metadata": {
    "execution": {
     "iopub.execute_input": "2025-09-11T08:40:37.740120Z",
     "iopub.status.busy": "2025-09-11T08:40:37.738930Z",
     "iopub.status.idle": "2025-09-11T08:40:37.748448Z",
     "shell.execute_reply": "2025-09-11T08:40:37.747021Z"
    },
    "papermill": {
     "duration": 0.017981,
     "end_time": "2025-09-11T08:40:37.750473",
     "exception": false,
     "start_time": "2025-09-11T08:40:37.732492",
     "status": "completed"
    },
    "tags": []
   },
   "outputs": [
    {
     "name": "stdout",
     "output_type": "stream",
     "text": [
      "[[1 2 3 4]\n",
      " [5 6 7 8]]\n",
      " \n",
      "[[1 5]\n",
      " [2 6]\n",
      " [3 7]\n",
      " [4 8]]\n",
      " \n",
      "[[1 2 3 4]\n",
      " [5 6 7 8]]\n"
     ]
    }
   ],
   "source": [
    "# Repeat for a Matrix\n",
    "\n",
    "nM = np.array([ [1, 2, 3, 4],\n",
    "                [5, 6, 7, 8]\n",
    "              ])\n",
    "print(nM), print(' ')\n",
    "\n",
    "# transpose it\n",
    "print(nM.T), print(' ')\n",
    "\n",
    "# transpose the transposed!\n",
    "nMT = nM.T\n",
    "print(nMT.T)"
   ]
  },
  {
   "cell_type": "markdown",
   "id": "e87bd9bf",
   "metadata": {
    "papermill": {
     "duration": 0.007282,
     "end_time": "2025-09-11T08:40:37.763745",
     "exception": false,
     "start_time": "2025-09-11T08:40:37.756463",
     "status": "completed"
    },
    "tags": []
   },
   "source": [
    "## Using Pytorch"
   ]
  },
  {
   "cell_type": "code",
   "execution_count": 5,
   "id": "e1494f95",
   "metadata": {
    "execution": {
     "iopub.execute_input": "2025-09-11T08:40:37.780453Z",
     "iopub.status.busy": "2025-09-11T08:40:37.779972Z",
     "iopub.status.idle": "2025-09-11T08:40:37.847045Z",
     "shell.execute_reply": "2025-09-11T08:40:37.845668Z"
    },
    "papermill": {
     "duration": 0.077455,
     "end_time": "2025-09-11T08:40:37.848535",
     "exception": false,
     "start_time": "2025-09-11T08:40:37.771080",
     "status": "completed"
    },
    "tags": []
   },
   "outputs": [
    {
     "name": "stdout",
     "output_type": "stream",
     "text": [
      "tensor([[1, 2, 3, 4]])\n",
      " \n",
      "tensor([[1],\n",
      "        [2],\n",
      "        [3],\n",
      "        [4]])\n",
      " \n",
      "tensor([[1, 2, 3, 4]])\n"
     ]
    }
   ],
   "source": [
    "# create a vector\n",
    "tv = torch.tensor([ [1, 2, 3, 4] ])\n",
    "\n",
    "print(tv), print(' ')\n",
    "\n",
    "# transpose it\n",
    "print(tv.T), print(' ')\n",
    "\n",
    "# transpose the transposed!\n",
    "tvT = tv.T\n",
    "print(tvT.T)"
   ]
  },
  {
   "cell_type": "code",
   "execution_count": 6,
   "id": "5495a401",
   "metadata": {
    "execution": {
     "iopub.execute_input": "2025-09-11T08:40:37.860181Z",
     "iopub.status.busy": "2025-09-11T08:40:37.859845Z",
     "iopub.status.idle": "2025-09-11T08:40:37.884800Z",
     "shell.execute_reply": "2025-09-11T08:40:37.883613Z"
    },
    "papermill": {
     "duration": 0.032259,
     "end_time": "2025-09-11T08:40:37.886480",
     "exception": false,
     "start_time": "2025-09-11T08:40:37.854221",
     "status": "completed"
    },
    "tags": []
   },
   "outputs": [
    {
     "name": "stdout",
     "output_type": "stream",
     "text": [
      "tensor([[1, 2, 3, 4],\n",
      "        [5, 6, 7, 8]])\n",
      " \n",
      "tensor([[1, 5],\n",
      "        [2, 6],\n",
      "        [3, 7],\n",
      "        [4, 8]])\n",
      " \n",
      "tensor([[1, 2, 3, 4],\n",
      "        [5, 6, 7, 8]])\n"
     ]
    }
   ],
   "source": [
    "# create a vector\n",
    "tM = torch.tensor([ [1, 2, 3, 4],\n",
    "                    [5, 6, 7, 8]])\n",
    "\n",
    "print(tM), print(' ')\n",
    "\n",
    "# transpose it\n",
    "print(tM.T), print(' ')\n",
    "\n",
    "# transpose the transposed!\n",
    "tMT = tM.T\n",
    "print(tMT.T)"
   ]
  },
  {
   "cell_type": "markdown",
   "id": "0f323793",
   "metadata": {
    "papermill": {
     "duration": 0.00416,
     "end_time": "2025-09-11T08:40:37.895112",
     "exception": false,
     "start_time": "2025-09-11T08:40:37.890952",
     "status": "completed"
    },
    "tags": []
   },
   "source": [
    "## Examine Data Types"
   ]
  },
  {
   "cell_type": "code",
   "execution_count": 7,
   "id": "421b150f",
   "metadata": {
    "execution": {
     "iopub.execute_input": "2025-09-11T08:40:37.905240Z",
     "iopub.status.busy": "2025-09-11T08:40:37.904883Z",
     "iopub.status.idle": "2025-09-11T08:40:37.911017Z",
     "shell.execute_reply": "2025-09-11T08:40:37.909742Z"
    },
    "papermill": {
     "duration": 0.013166,
     "end_time": "2025-09-11T08:40:37.912598",
     "exception": false,
     "start_time": "2025-09-11T08:40:37.899432",
     "status": "completed"
    },
    "tags": []
   },
   "outputs": [
    {
     "name": "stdout",
     "output_type": "stream",
     "text": [
      "Variable nv of type <class 'numpy.ndarray'>\n",
      "Variable nM of type <class 'numpy.ndarray'>\n",
      "Variable tv of type <class 'torch.Tensor'>\n",
      "Variable tM of type <class 'torch.Tensor'>\n"
     ]
    }
   ],
   "source": [
    "print(f'Variable nv of type {type(nv)}')\n",
    "print(f'Variable nM of type {type(nM)}')\n",
    "print(f'Variable tv of type {type(tv)}')\n",
    "print(f'Variable tM of type {type(tM)}')"
   ]
  },
  {
   "cell_type": "markdown",
   "id": "5b89c592",
   "metadata": {
    "papermill": {
     "duration": 0.004493,
     "end_time": "2025-09-11T08:40:37.922346",
     "exception": false,
     "start_time": "2025-09-11T08:40:37.917853",
     "status": "completed"
    },
    "tags": []
   },
   "source": [
    "## --- Ends Here ---"
   ]
  },
  {
   "cell_type": "markdown",
   "id": "1a6bf262",
   "metadata": {
    "papermill": {
     "duration": 0.004074,
     "end_time": "2025-09-11T08:40:37.930771",
     "exception": false,
     "start_time": "2025-09-11T08:40:37.926697",
     "status": "completed"
    },
    "tags": []
   },
   "source": [
    "\n",
    "## 2. Dot Product\n",
    "\n",
    "The dot product of two vectors $\\mathbf{u}$ and $\\mathbf{v}$ is written as $\\mathbf{u} \\cdot \\mathbf{v}$.\n",
    "\n",
    "It's calculated as the sum of the products of their corresponding components:\n",
    "$\\mathbf{u} \\cdot \\mathbf{v} = \\sum_{i=1}^{n} u_i v_i$\n",
    "\n",
    "For example, if $\\mathbf{u} = [u_1, u_2]$ and $\\mathbf{v} = [v_1, v_2]$, then $\\mathbf{u} \\cdot \\mathbf{v} = u_1v_1 + u_2v_2$.\n",
    "\n",
    "Vectors should have same number of elements"
   ]
  },
  {
   "cell_type": "markdown",
   "id": "cfffd8bb",
   "metadata": {
    "papermill": {
     "duration": 0.004005,
     "end_time": "2025-09-11T08:40:37.939025",
     "exception": false,
     "start_time": "2025-09-11T08:40:37.935020",
     "status": "completed"
    },
    "tags": []
   },
   "source": [
    "## 📐 Common Linear Algebra Operations\n",
    "\n",
    "---\n",
    "\n",
    "### ➕ Vector & Matrix Addition\n",
    "\n",
    "**Definition:** Elements of the matrices/vectors are added element-wise. The inputs must have the exact same shape.\n",
    "\n",
    "**Notation:** $\\mathbf{A} + \\mathbf{B}$ or $\\mathbf{u} + \\mathbf{v}$\n",
    "\n",
    "**Example:**\n",
    "$$\n",
    "\\begin{pmatrix} 1 & 2 \\\\ 3 & 4 \\end{pmatrix} + \\begin{pmatrix} 5 & 6 \\\\ 7 & 8 \\end{pmatrix} = \\begin{pmatrix} 1+5 & 2+6 \\\\ 3+7 & 4+8 \\end{pmatrix} = \\begin{pmatrix} 6 & 8 \\\\ 10 & 12 \\end{pmatrix}\n",
    "$$\n",
    "\n",
    "---\n",
    "\n",
    "### ✨ Scalar Multiplication\n",
    "\n",
    "**Definition:** Every element of the vector or matrix is multiplied by a single number (a scalar).\n",
    "\n",
    "**Notation:** $c\\mathbf{A}$ or $c\\mathbf{v}$\n",
    "\n",
    "**Example:**\n",
    "$$\n",
    "3 \\times \\begin{pmatrix} 1 & 2 \\\\ 3 & 4 \\end{pmatrix} = \\begin{pmatrix} 3 \\times 1 & 3 \\times 2 \\\\ 3 \\times 3 & 3 \\times 4 \\end{pmatrix} = \\begin{pmatrix} 3 & 6 \\\\ 9 & 12 \\end{pmatrix}\n",
    "$$\n",
    "\n",
    "---\n",
    "\n",
    "### ✖️ Matrix Multiplication\n",
    "\n",
    "**Definition:** A more complex operation where the resulting element at row `i`, column `j` is the **dot product** of the `i`-th row of the first matrix and the `j`-th column of the second matrix. For a product $\\mathbf{AB}$ to be valid, the number of columns in $\\mathbf{A}$ must equal the number of rows in $\\mathbf{B}$.\n",
    "\n",
    "**Notation:** $\\mathbf{A}\\mathbf{B}$\n",
    "\n",
    "**Example:**\n",
    "$$\n",
    "\\begin{pmatrix} 1 & 2 \\\\ 3 & 4 \\end{pmatrix} \\begin{pmatrix} 5 & 6 \\\\ 7 & 8 \\end{pmatrix} = \\begin{pmatrix} (1 \\cdot 5 + 2 \\cdot 7) & (1 \\cdot 6 + 2 \\cdot 8) \\\\ (3 \\cdot 5 + 4 \\cdot 7) & (3 \\cdot 6 + 4 \\cdot 8) \\end{pmatrix} = \\begin{pmatrix} 19 & 22 \\\\ 43 & 50 \\end{pmatrix}\n",
    "$$\n",
    "\n",
    "---\n",
    "\n",
    "### ⊙ Element-wise Product (Hadamard Product)\n",
    "\n",
    "**Definition:** Similar to addition, this operation multiplies elements of two matrices that have the same shape. **This is different from standard matrix multiplication.**\n",
    "\n",
    "**Notation:** $\\mathbf{A} \\odot \\mathbf{B}$\n",
    "\n",
    "**Example:**\n",
    "$$\n",
    "\\begin{pmatrix} 1 & 2 \\\\ 3 & 4 \\end{pmatrix} \\odot \\begin{pmatrix} 5 & 6 \\\\ 7 & 8 \\end{pmatrix} = \\begin{pmatrix} 1 \\cdot 5 & 2 \\cdot 6 \\\\ 3 \\cdot 7 & 4 \\cdot 8 \\end{pmatrix} = \\begin{pmatrix} 5 & 12 \\\\ 21 & 32 \\end{pmatrix}\n",
    "$$\n",
    "\n",
    "---\n",
    "\n",
    "### • Dot Product\n",
    "\n",
    "**Definition:** The sum of the products of the corresponding elements in two vectors of the same length. The result is a single number (a scalar).\n",
    "\n",
    "**Notation:** $\\mathbf{u} \\cdot \\mathbf{v}$ or $\\mathbf{u}^T \\mathbf{v}$\n",
    "\n",
    "**Example:**\n",
    "$$\n",
    "\\begin{pmatrix} 1 \\\\ 2 \\\\ 3 \\end{pmatrix} \\cdot \\begin{pmatrix} 4 \\\\ 5 \\\\ 6 \\end{pmatrix} = (1 \\times 4) + (2 \\times 5) + (3 \\times 6) = 4 + 10 + 18 = 32\n",
    "$$\n",
    "\n",
    "A Single Number that reflects the commonalities between two objects (vectors, matrices, tensors, signals, images).\n",
    "\n",
    "The dot product is the computational backbone for many operations:\n",
    "1. Statistics : Correlation, Least-Squares, Filtering\n",
    "2. Signal Processing : Fourier Transform, Filtering \n",
    "3. Science : Geometry, Physics, Mechanics\n",
    "4. Linear Algebra : Projection, Transformation, Multiplication\n",
    "5. Deep Learning : Convolution, Matrix Multiplication. Gram Matrix (Used in Style Transfer)\n",
    "\n",
    "---\n",
    "\n",
    "### 📏 Vector Norm (L² Norm)\n",
    "\n",
    "**Definition:** The length or magnitude of a vector. It's calculated as the square root of the sum of the squares of its elements.\n",
    "\n",
    "**Notation:** $\\|\\mathbf{v}\\|$ or $\\|\\mathbf{v}\\|_2$\n",
    "\n",
    "**Example:**\n",
    "For vector $\\mathbf{v} = \\begin{pmatrix} 3 \\\\ 4 \\end{pmatrix}$\n",
    "$$\n",
    "\\|\\mathbf{v}\\|_2 = \\sqrt{3^2 + 4^2} = \\sqrt{9 + 16} = \\sqrt{25} = 5\n",
    "$$\n",
    "\n",
    "---\n",
    "\n",
    "###  transposed_matrix Transpose\n",
    "\n",
    "**Definition:** An operation that flips a matrix over its main diagonal. The rows of the original matrix become the columns of the new matrix, and vice-versa.\n",
    "\n",
    "**Notation:** $\\mathbf{A}^T$\n",
    "\n",
    "**Example:**\n",
    "$$\n",
    "\\text{If } \\mathbf{A} = \\begin{pmatrix} 1 & 2 & 3 \\\\ 4 & 5 & 6 \\end{pmatrix} \\text{, then } \\mathbf{A}^T = \\begin{pmatrix} 1 & 4 \\\\ 2 & 5 \\\\ 3 & 6 \\end{pmatrix}\n",
    "$$"
   ]
  },
  {
   "cell_type": "markdown",
   "id": "f32569de",
   "metadata": {
    "papermill": {
     "duration": 0.004175,
     "end_time": "2025-09-11T08:40:37.947546",
     "exception": false,
     "start_time": "2025-09-11T08:40:37.943371",
     "status": "completed"
    },
    "tags": []
   },
   "source": [
    "## Using Numpy"
   ]
  },
  {
   "cell_type": "code",
   "execution_count": 8,
   "id": "307eaa87",
   "metadata": {
    "execution": {
     "iopub.execute_input": "2025-09-11T08:40:37.957461Z",
     "iopub.status.busy": "2025-09-11T08:40:37.957109Z",
     "iopub.status.idle": "2025-09-11T08:40:37.965130Z",
     "shell.execute_reply": "2025-09-11T08:40:37.963983Z"
    },
    "papermill": {
     "duration": 0.015,
     "end_time": "2025-09-11T08:40:37.966764",
     "exception": false,
     "start_time": "2025-09-11T08:40:37.951764",
     "status": "completed"
    },
    "tags": []
   },
   "outputs": [
    {
     "name": "stdout",
     "output_type": "stream",
     "text": [
      "-2\n",
      "-2\n"
     ]
    }
   ],
   "source": [
    "# create a vector\n",
    "nv1 = np.array([1, 2, 3, 4])\n",
    "nv2 = np.array([0,1,0,-1])\n",
    "\n",
    "# dot product via function\n",
    "print(np.dot(nv1, nv2))\n",
    "\n",
    "# dot product via computation\n",
    "print(np.sum(nv1*nv2))"
   ]
  },
  {
   "cell_type": "markdown",
   "id": "0afcadd6",
   "metadata": {
    "papermill": {
     "duration": 0.004315,
     "end_time": "2025-09-11T08:40:37.975844",
     "exception": false,
     "start_time": "2025-09-11T08:40:37.971529",
     "status": "completed"
    },
    "tags": []
   },
   "source": [
    "## Using Pytorch"
   ]
  },
  {
   "cell_type": "code",
   "execution_count": 9,
   "id": "71c2ffcf",
   "metadata": {
    "execution": {
     "iopub.execute_input": "2025-09-11T08:40:37.986467Z",
     "iopub.status.busy": "2025-09-11T08:40:37.986094Z",
     "iopub.status.idle": "2025-09-11T08:40:38.018422Z",
     "shell.execute_reply": "2025-09-11T08:40:38.017134Z"
    },
    "papermill": {
     "duration": 0.039915,
     "end_time": "2025-09-11T08:40:38.020232",
     "exception": false,
     "start_time": "2025-09-11T08:40:37.980317",
     "status": "completed"
    },
    "tags": []
   },
   "outputs": [
    {
     "name": "stdout",
     "output_type": "stream",
     "text": [
      "tensor(-2)\n",
      "tensor(-2)\n"
     ]
    }
   ],
   "source": [
    "# create a vector\n",
    "tv1 = torch.tensor([1, 2, 3, 4])\n",
    "tv2 = torch.tensor([0,1,0,-1])\n",
    "\n",
    "# dot product via function\n",
    "print(torch.dot(tv1, tv2))\n",
    "\n",
    "# dot product via computation. Torch even stores individual numbers as tensors.\n",
    "print(torch.sum(tv1*tv2))"
   ]
  },
  {
   "cell_type": "markdown",
   "id": "feb83da1",
   "metadata": {
    "papermill": {
     "duration": 0.004285,
     "end_time": "2025-09-11T08:40:38.029309",
     "exception": false,
     "start_time": "2025-09-11T08:40:38.025024",
     "status": "completed"
    },
    "tags": []
   },
   "source": [
    " ## This is intentionaly kept blank"
   ]
  },
  {
   "cell_type": "markdown",
   "id": "22bdd44c",
   "metadata": {
    "papermill": {
     "duration": 0.004311,
     "end_time": "2025-09-11T08:40:38.038172",
     "exception": false,
     "start_time": "2025-09-11T08:40:38.033861",
     "status": "completed"
    },
    "tags": []
   },
   "source": [
    "### Committing Code"
   ]
  },
  {
   "cell_type": "code",
   "execution_count": 10,
   "id": "2ebe7df3",
   "metadata": {
    "execution": {
     "iopub.execute_input": "2025-09-11T08:40:38.048874Z",
     "iopub.status.busy": "2025-09-11T08:40:38.048509Z",
     "iopub.status.idle": "2025-09-11T08:40:38.189015Z",
     "shell.execute_reply": "2025-09-11T08:40:38.187754Z"
    },
    "papermill": {
     "duration": 0.148899,
     "end_time": "2025-09-11T08:40:38.191509",
     "exception": false,
     "start_time": "2025-09-11T08:40:38.042610",
     "status": "completed"
    },
    "tags": []
   },
   "outputs": [
    {
     "name": "stdout",
     "output_type": "stream",
     "text": [
      "total 28\r\n",
      "---------- 1 root root 25611 Sep 11 08:40 __notebook__.ipynb\r\n"
     ]
    }
   ],
   "source": [
    "!ls -l /kaggle/working/"
   ]
  },
  {
   "cell_type": "code",
   "execution_count": 11,
   "id": "b2617164",
   "metadata": {
    "execution": {
     "iopub.execute_input": "2025-09-11T08:40:38.202878Z",
     "iopub.status.busy": "2025-09-11T08:40:38.202467Z",
     "iopub.status.idle": "2025-09-11T08:40:40.217764Z",
     "shell.execute_reply": "2025-09-11T08:40:40.216040Z"
    },
    "papermill": {
     "duration": 2.023477,
     "end_time": "2025-09-11T08:40:40.219752",
     "exception": false,
     "start_time": "2025-09-11T08:40:38.196275",
     "status": "completed"
    },
    "tags": []
   },
   "outputs": [
    {
     "name": "stdout",
     "output_type": "stream",
     "text": [
      "Cloning into 'Career-Tutorials-and-Certification-Abhilash-Jash'...\r\n",
      "remote: Enumerating objects: 7, done.\u001b[K\r\n",
      "remote: Counting objects: 100% (7/7), done.\u001b[K\r\n",
      "remote: Compressing objects: 100% (4/4), done.\u001b[K\r\n",
      "remote: Total 7 (delta 0), reused 0 (delta 0), pack-reused 0 (from 0)\u001b[K\r\n",
      "Receiving objects: 100% (7/7), 13.65 KiB | 3.41 MiB/s, done.\r\n",
      "/kaggle/working/Career-Tutorials-and-Certification-Abhilash-Jash\n",
      "mv: cannot stat 'Deep': No such file or directory\r\n",
      "fatal: pathspec 'A' did not match any files\r\n",
      "On branch main\r\n",
      "Your branch is up to date with 'origin/main'.\r\n",
      "\r\n",
      "Untracked files:\r\n",
      "  (use \"git add <file>...\" to include in what will be committed)\r\n",
      "\t\u001b[31mLearning/\u001b[m\r\n",
      "\r\n",
      "nothing added to commit but untracked files present (use \"git add\" to track)\r\n"
     ]
    }
   ],
   "source": [
    "# Import necessary libraries\n",
    "import os\n",
    "from kaggle_secrets import UserSecretsClient\n",
    "\n",
    "# 1. AUTHENTICATE\n",
    "# -----------------\n",
    "# Get your GitHub credentials from Kaggle Secrets\n",
    "user_secrets = UserSecretsClient()\n",
    "github_token = user_secrets.get_secret(\"GITHUB_TOKEN\")\n",
    "github_user = user_secrets.get_secret(\"GITHUB_USER\")\n",
    "\n",
    "# 2. SET UP VARIABLES\n",
    "# ---------------------\n",
    "# Replace with your repository name and the file you want to commit\n",
    "repo_name = \"Career-Tutorials-and-Certification-Abhilash-Jash\"\n",
    "file_to_commit = \"DUDL_Mathematics.ipynb\" # IMPORTANT: Change this to your actual file name\n",
    "\n",
    "# Create a dummy file for this example.\n",
    "# In your real code, this file should already exist in /kaggle/working/\n",
    "with open(file_to_commit, \"w\") as f:\n",
    "    f.write(\"This is a test file added from Kaggle.\")\n",
    "\n",
    "# 3. CLONE THE REPOSITORY\n",
    "# -------------------------\n",
    "# The URL includes your token for authentication\n",
    "repo_url = f\"https://{github_token}@github.com/{github_user}/{repo_name}.git\"\n",
    "!git clone {repo_url}\n",
    "\n",
    "# 4. ADD, COMMIT, AND PUSH THE FILE\n",
    "# -----------------------------------\n",
    "# Navigate into the cloned repository's directory\n",
    "%cd {repo_name}\n",
    "\n",
    "# Configure Git with your user info\n",
    "!git config --global user.name \"{github_user}\"\n",
    "!git config --global user.email \"{github_user}@users.noreply.github.com\"\n",
    "\n",
    "# Create the target folder and move the file into it\n",
    "!mkdir -p A Deep Understanding of Deep Learning\n",
    "!mv /kaggle/working/{file_to_commit} A Deep Understanding of Deep Learning/\n",
    "\n",
    "# Add the new file to Git's staging area\n",
    "!git add A Deep Understanding of Deep Learning/{file_to_commit}\n",
    "\n",
    "# Commit the changes with a message\n",
    "!git commit -m \"Add {file_to_commit} from Kaggle to A Deep Understanding of Deep Learning folder\""
   ]
  },
  {
   "cell_type": "code",
   "execution_count": 12,
   "id": "b37ff695",
   "metadata": {
    "execution": {
     "iopub.execute_input": "2025-09-11T08:40:40.231478Z",
     "iopub.status.busy": "2025-09-11T08:40:40.231137Z",
     "iopub.status.idle": "2025-09-11T08:40:40.833889Z",
     "shell.execute_reply": "2025-09-11T08:40:40.832530Z"
    },
    "papermill": {
     "duration": 0.611009,
     "end_time": "2025-09-11T08:40:40.835890",
     "exception": false,
     "start_time": "2025-09-11T08:40:40.224881",
     "status": "completed"
    },
    "tags": []
   },
   "outputs": [
    {
     "name": "stdout",
     "output_type": "stream",
     "text": [
      "Everything up-to-date\r\n",
      "/kaggle/working\n",
      "✅ Successfully committed and pushed 'DUDL_Mathematics.ipynb' to the 'A Deep Understanding of Deep Learning' folder in your repo!\n"
     ]
    }
   ],
   "source": [
    "# Push the commit to your GitHub repository\n",
    "!git push\n",
    "\n",
    "# 5. CLEANUP\n",
    "# ----------\n",
    "# Navigate back to the original directory and remove the cloned repo folder\n",
    "\n",
    "%cd /kaggle/working/\n",
    "!rm -rf {repo_name}\n",
    "\n",
    "print(f\"✅ Successfully committed and pushed '{file_to_commit}' to the 'A Deep Understanding of Deep Learning' folder in your repo!\")"
   ]
  },
  {
   "cell_type": "code",
   "execution_count": null,
   "id": "c4867932",
   "metadata": {
    "papermill": {
     "duration": 0.00512,
     "end_time": "2025-09-11T08:40:40.846382",
     "exception": false,
     "start_time": "2025-09-11T08:40:40.841262",
     "status": "completed"
    },
    "tags": []
   },
   "outputs": [],
   "source": []
  }
 ],
 "metadata": {
  "kaggle": {
   "accelerator": "none",
   "dataSources": [],
   "dockerImageVersionId": 31089,
   "isGpuEnabled": false,
   "isInternetEnabled": true,
   "language": "python",
   "sourceType": "notebook"
  },
  "kernelspec": {
   "display_name": "Python 3",
   "language": "python",
   "name": "python3"
  },
  "language_info": {
   "codemirror_mode": {
    "name": "ipython",
    "version": 3
   },
   "file_extension": ".py",
   "mimetype": "text/x-python",
   "name": "python",
   "nbconvert_exporter": "python",
   "pygments_lexer": "ipython3",
   "version": "3.11.13"
  },
  "papermill": {
   "default_parameters": {},
   "duration": 18.537371,
   "end_time": "2025-09-11T08:40:42.578342",
   "environment_variables": {},
   "exception": null,
   "input_path": "__notebook__.ipynb",
   "output_path": "__notebook__.ipynb",
   "parameters": {},
   "start_time": "2025-09-11T08:40:24.040971",
   "version": "2.6.0"
  }
 },
 "nbformat": 4,
 "nbformat_minor": 5
}
